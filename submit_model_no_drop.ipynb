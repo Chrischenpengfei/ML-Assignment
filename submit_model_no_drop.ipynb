{
 "cells": [
  {
   "cell_type": "code",
   "execution_count": 1,
   "metadata": {},
   "outputs": [],
   "source": [
    "import numpy as np\n",
    "import pandas as pd\n",
    "from pandas.api.types import CategoricalDtype \n",
    "\n",
    "from sklearn.linear_model import LogisticRegression\n",
    "from sklearn.model_selection import cross_val_score\n",
    "\n",
    "import scipy\n",
    "import optuna"
   ]
  },
  {
   "cell_type": "code",
   "execution_count": 2,
   "metadata": {},
   "outputs": [],
   "source": [
    "# Load data \n",
    "train = pd.read_csv('train.csv')\n",
    "test = pd.read_csv('test.csv')\n",
    "\n",
    "# Define Subset\n",
    "test_id = test['id']\n",
    "target = train['target']\n",
    "\n",
    "#drop target and id from train, as it is not a feature.\n",
    "train.drop(['target', 'id'], axis=1, inplace=True) \n",
    "test.drop(['id'], axis=1, inplace=True)"
   ]
  },
  {
   "cell_type": "code",
   "execution_count": 3,
   "metadata": {},
   "outputs": [],
   "source": [
    "# convert bin_3 and bin_4 to numeric data\n",
    "bin_dict = {'T':1, 'F':0, 'Y':1, 'N':0}\n",
    "\n",
    "# Maping the category values in bin dict\n",
    "train['bin_3'] = train['bin_3'].map(bin_dict)\n",
    "train['bin_4'] = train['bin_4'].map(bin_dict)\n",
    "test['bin_3'] = test['bin_3'].map(bin_dict)\n",
    "test['bin_4'] = test['bin_4'].map(bin_dict)"
   ]
  },
  {
   "cell_type": "code",
   "execution_count": 4,
   "metadata": {},
   "outputs": [],
   "source": [
    "# seting the orders of our ordinal features\n",
    "ord_1 = CategoricalDtype(categories=['Novice', 'Contributor','Expert', \n",
    "                                     'Master', 'Grandmaster'], ordered=True)\n",
    "ord_2 = CategoricalDtype(categories=['Freezing', 'Cold', 'Warm', 'Hot',\n",
    "                                     'Boiling Hot', 'Lava Hot'], ordered=True)\n",
    "ord_3 = CategoricalDtype(categories=['a', 'b', 'c', 'd', 'e', 'f', 'g',\n",
    "                                     'h', 'i', 'j', 'k', 'l', 'm', 'n', 'o'], ordered=True)\n",
    "ord_4 = CategoricalDtype(categories=['A', 'B', 'C', 'D', 'E', 'F', 'G', 'H', 'I',\n",
    "                                     'J', 'K', 'L', 'M', 'N', 'O', 'P', 'Q', 'R',\n",
    "                                     'S', 'T', 'U', 'V', 'W', 'X', 'Y', 'Z'], ordered=True)"
   ]
  },
  {
   "cell_type": "code",
   "execution_count": 5,
   "metadata": {},
   "outputs": [],
   "source": [
    "# Transforming ordinal Features\n",
    "train.ord_1 = train.ord_1.astype(ord_1)\n",
    "train.ord_2 = train.ord_2.astype(ord_2)\n",
    "train.ord_3 = train.ord_3.astype(ord_3)\n",
    "train.ord_4 = train.ord_4.astype(ord_4)\n",
    "\n",
    "# test dataset\n",
    "test.ord_1 = test.ord_1.astype(ord_1)\n",
    "test.ord_2 = test.ord_2.astype(ord_2)\n",
    "test.ord_3 = test.ord_3.astype(ord_3)\n",
    "test.ord_4 = test.ord_4.astype(ord_4)"
   ]
  },
  {
   "cell_type": "code",
   "execution_count": 6,
   "metadata": {},
   "outputs": [],
   "source": [
    "# Geting the codes of ordinal categoy's - train\n",
    "train.ord_1 = train.ord_1.cat.codes\n",
    "train.ord_2 = train.ord_2.cat.codes\n",
    "train.ord_3 = train.ord_3.cat.codes\n",
    "train.ord_4 = train.ord_4.cat.codes\n",
    "\n",
    "# Geting the codes of ordinal categoy's - test\n",
    "test.ord_1 = test.ord_1.cat.codes\n",
    "test.ord_2 = test.ord_2.cat.codes\n",
    "test.ord_3 = test.ord_3.cat.codes\n",
    "test.ord_4 = test.ord_4.cat.codes"
   ]
  },
  {
   "cell_type": "code",
   "execution_count": 7,
   "metadata": {},
   "outputs": [],
   "source": [
    "# combine train&test data set for OHE\n",
    "all_data = pd.concat((train,test))"
   ]
  },
  {
   "cell_type": "code",
   "execution_count": 8,
   "metadata": {},
   "outputs": [],
   "source": [
    "# OHE by using pandas.get_dummy\n",
    "encoded=pd.get_dummies(all_data, columns=all_data.columns, sparse=True)\n",
    "# Convert to sparse data structure to avoid memory issue when train data later\n",
    "encoded=encoded.sparse.to_coo().tocsr()"
   ]
  },
  {
   "cell_type": "code",
   "execution_count": 9,
   "metadata": {},
   "outputs": [],
   "source": [
    "# divide data to train and test seperatly\n",
    "train_ohe = encoded[:len(train)]\n",
    "test_ohe = encoded[len(train):]"
   ]
  },
  {
   "cell_type": "code",
   "execution_count": 10,
   "metadata": {},
   "outputs": [],
   "source": [
    "# using logistic regression with \"liblinear\" solver and C value as 0.1 we will tune the C value later with optuna\n",
    "model=LogisticRegression(C=0.1, solver=\"liblinear\", max_iter=10000)\n",
    "model.fit(train_ohe, target)\n",
    "pred=model.predict_proba(test_ohe)[:,1]"
   ]
  },
  {
   "cell_type": "code",
   "execution_count": 11,
   "metadata": {},
   "outputs": [
    {
     "name": "stdout",
     "output_type": "stream",
     "text": [
      "0.8035356471423679\n"
     ]
    }
   ],
   "source": [
    "# scoring by roc_auc. because kaggle scoring submission by roc_auc\n",
    "score=cross_val_score(model, train_ohe, target, scoring='roc_auc', n_jobs=-1).mean()\n",
    "print(score)"
   ]
  },
  {
   "cell_type": "code",
   "execution_count": 16,
   "metadata": {
    "scrolled": false
   },
   "outputs": [
    {
     "name": "stderr",
     "output_type": "stream",
     "text": [
      "[I 2020-04-28 01:22:49,238] Finished trial#0 with value: -0.6124161477367991 with parameters: {'C': 9.052164443557401e-08}. Best is trial#0 with value: -0.6124161477367991.\n",
      "[I 2020-04-28 01:22:50,076] Finished trial#1 with value: -0.7067790799463448 with parameters: {'C': 1.8029132225858717e-05}. Best is trial#1 with value: -0.7067790799463448.\n",
      "[I 2020-04-28 01:22:50,872] Finished trial#2 with value: -0.6377306682949584 with parameters: {'C': 1.4928911569366931e-06}. Best is trial#1 with value: -0.7067790799463448.\n",
      "[I 2020-04-28 01:23:28,760] Finished trial#3 with value: -0.7884433400416202 with parameters: {'C': 7.331541845961787}. Best is trial#3 with value: -0.7884433400416202.\n",
      "[I 2020-04-28 01:23:29,525] Finished trial#4 with value: -0.6612803055360361 with parameters: {'C': 3.4835538616631648e-06}. Best is trial#3 with value: -0.7884433400416202.\n",
      "[I 2020-04-28 01:23:33,270] Finished trial#5 with value: -0.789826676827512 with parameters: {'C': 0.008200744838816776}. Best is trial#5 with value: -0.789826676827512.\n",
      "[I 2020-04-28 01:23:33,964] Finished trial#6 with value: -0.6197400170143114 with parameters: {'C': 4.483083544575283e-07}. Best is trial#5 with value: -0.789826676827512.\n",
      "[I 2020-04-28 01:23:41,468] Finished trial#7 with value: -0.8026876556181458 with parameters: {'C': 0.05974164889268654}. Best is trial#7 with value: -0.8026876556181458.\n",
      "[I 2020-04-28 01:23:42,239] Finished trial#8 with value: -0.6298171541948558 with parameters: {'C': 9.988887203454495e-07}. Best is trial#7 with value: -0.8026876556181458.\n",
      "[I 2020-04-28 01:23:42,871] Finished trial#9 with value: -0.6124454992289845 with parameters: {'C': 9.18954103801786e-08}. Best is trial#7 with value: -0.8026876556181458.\n",
      "[I 2020-04-28 01:23:46,365] Finished trial#10 with value: -0.7900753618305674 with parameters: {'C': 0.008400576190582449}. Best is trial#7 with value: -0.8026876556181458.\n",
      "[I 2020-04-28 01:23:51,233] Finished trial#11 with value: -0.7958515018658969 with parameters: {'C': 0.015922769380344308}. Best is trial#7 with value: -0.8026876556181458.\n",
      "[I 2020-04-28 01:24:07,680] Finished trial#12 with value: -0.798541829090292 with parameters: {'C': 0.7066633798659822}. Best is trial#7 with value: -0.8026876556181458.\n",
      "[I 2020-04-28 01:24:40,131] Finished trial#13 with value: -0.7900795511507097 with parameters: {'C': 4.525531739725006}. Best is trial#7 with value: -0.8026876556181458.\n",
      "[I 2020-04-28 01:24:59,402] Finished trial#14 with value: -0.7980503542646172 with parameters: {'C': 0.7801618214713496}. Best is trial#7 with value: -0.8026876556181458.\n",
      "[I 2020-04-28 01:25:11,352] Finished trial#15 with value: -0.8030839252140145 with parameters: {'C': 0.20305218331947403}. Best is trial#15 with value: -0.8030839252140145.\n",
      "[I 2020-04-28 01:25:12,957] Finished trial#16 with value: -0.7511477407061442 with parameters: {'C': 0.00047817055962492315}. Best is trial#15 with value: -0.8030839252140145.\n",
      "[I 2020-04-28 01:25:13,575] Finished trial#17 with value: -0.6105074330913534 with parameters: {'C': 2.1407906330956644e-09}. Best is trial#15 with value: -0.8030839252140145.\n",
      "[I 2020-04-28 01:25:25,349] Finished trial#18 with value: -0.8031770674348581 with parameters: {'C': 0.1930987056429235}. Best is trial#18 with value: -0.8031770674348581.\n",
      "[I 2020-04-28 01:25:27,007] Finished trial#19 with value: -0.7544749684652861 with parameters: {'C': 0.0006063426314311608}. Best is trial#18 with value: -0.8031770674348581.\n",
      "[I 2020-04-28 01:25:37,570] Finished trial#20 with value: -0.8035457862972187 with parameters: {'C': 0.14239782551767557}. Best is trial#20 with value: -0.8035457862972187.\n",
      "[I 2020-04-28 01:25:48,996] Finished trial#21 with value: -0.8031854932240318 with parameters: {'C': 0.19216367972816673}. Best is trial#20 with value: -0.8035457862972187.\n",
      "[I 2020-04-28 01:26:27,384] Finished trial#22 with value: -0.7878503496941422 with parameters: {'C': 8.931763740266753}. Best is trial#20 with value: -0.8035457862972187.\n",
      "[I 2020-04-28 01:26:29,116] Finished trial#23 with value: -0.7622845771326611 with parameters: {'C': 0.00104526885578034}. Best is trial#20 with value: -0.8035457862972187.\n",
      "[I 2020-04-28 01:26:48,556] Finished trial#24 with value: -0.7978295534213065 with parameters: {'C': 0.8163291202126645}. Best is trial#20 with value: -0.8035457862972187.\n",
      "[I 2020-04-28 01:26:56,652] Finished trial#25 with value: -0.8027953787626021 with parameters: {'C': 0.06234320631982211}. Best is trial#20 with value: -0.8035457862972187.\n",
      "[I 2020-04-28 01:27:06,007] Finished trial#26 with value: -0.8034735189308453 with parameters: {'C': 0.09276294057167436}. Best is trial#20 with value: -0.8035457862972187.\n",
      "[I 2020-04-28 01:27:08,789] Finished trial#27 with value: -0.7771766766690958 with parameters: {'C': 0.002923678847831718}. Best is trial#20 with value: -0.8035457862972187.\n",
      "[I 2020-04-28 01:27:09,941] Finished trial#28 with value: -0.733418190490715 with parameters: {'C': 0.0001281774220519785}. Best is trial#20 with value: -0.8035457862972187.\n",
      "[I 2020-04-28 01:27:35,392] Finished trial#29 with value: -0.7932839238895619 with parameters: {'C': 2.086904906817054}. Best is trial#20 with value: -0.8035457862972187.\n",
      "[I 2020-04-28 01:27:42,442] Finished trial#30 with value: -0.8016641736994723 with parameters: {'C': 0.0434902965775526}. Best is trial#20 with value: -0.8035457862972187.\n",
      "[I 2020-04-28 01:27:55,629] Finished trial#31 with value: -0.8023895788876109 with parameters: {'C': 0.27066557108909833}. Best is trial#20 with value: -0.8035457862972187.\n",
      "[I 2020-04-28 01:28:04,446] Finished trial#32 with value: -0.8035468214506544 with parameters: {'C': 0.10162487069788909}. Best is trial#32 with value: -0.8035468214506544.\n",
      "[I 2020-04-28 01:28:09,967] Finished trial#33 with value: -0.7994684916610263 with parameters: {'C': 0.02734549298325643}. Best is trial#32 with value: -0.8035468214506544.\n",
      "[I 2020-04-28 01:28:12,565] Finished trial#34 with value: -0.7744646780876481 with parameters: {'C': 0.0024111095062052863}. Best is trial#32 with value: -0.8035468214506544.\n",
      "[I 2020-04-28 01:28:13,529] Finished trial#35 with value: -0.7036918937461504 with parameters: {'C': 1.533513819097322e-05}. Best is trial#32 with value: -0.8035468214506544.\n",
      "[I 2020-04-28 01:28:40,551] Finished trial#36 with value: -0.7919921099858704 with parameters: {'C': 2.7968657874009395}. Best is trial#32 with value: -0.8035468214506544.\n",
      "[I 2020-04-28 01:28:50,827] Finished trial#37 with value: -0.8035709820246815 with parameters: {'C': 0.13564258626741285}. Best is trial#37 with value: -0.8035709820246815.\n",
      "[I 2020-04-28 01:28:53,430] Finished trial#38 with value: -0.7812178079838816 with parameters: {'C': 0.00394669617717804}. Best is trial#37 with value: -0.8035709820246815.\n",
      "[I 2020-04-28 01:28:54,504] Finished trial#39 with value: -0.7278801970633559 with parameters: {'C': 8.325602429485972e-05}. Best is trial#37 with value: -0.8035709820246815.\n",
      "[I 2020-04-28 01:29:02,568] Finished trial#40 with value: -0.8029367962327404 with parameters: {'C': 0.06621789150278178}. Best is trial#37 with value: -0.8035709820246815.\n",
      "[I 2020-04-28 01:29:13,866] Finished trial#41 with value: -0.8032637635682605 with parameters: {'C': 0.1833726301607925}. Best is trial#37 with value: -0.8035709820246815.\n",
      "[I 2020-04-28 01:29:36,251] Finished trial#42 with value: -0.7960674431873533 with parameters: {'C': 1.1635825193112799}. Best is trial#37 with value: -0.8035709820246815.\n",
      "[I 2020-04-28 01:29:40,302] Finished trial#43 with value: -0.7908483500591899 with parameters: {'C': 0.009065559984872759}. Best is trial#37 with value: -0.8035709820246815.\n",
      "[I 2020-04-28 01:29:54,089] Finished trial#44 with value: -0.801640403696932 with parameters: {'C': 0.3417210206366718}. Best is trial#37 with value: -0.8035709820246815.\n",
      "[I 2020-04-28 01:30:02,846] Finished trial#45 with value: -0.803323559971005 with parameters: {'C': 0.08181376972975876}. Best is trial#37 with value: -0.8035709820246815.\n",
      "[I 2020-04-28 01:30:07,745] Finished trial#46 with value: -0.7950429916423836 with parameters: {'C': 0.01438692477632376}. Best is trial#37 with value: -0.8035709820246815.\n"
     ]
    },
    {
     "name": "stderr",
     "output_type": "stream",
     "text": [
      "[I 2020-04-28 01:30:16,564] Finished trial#47 with value: -0.8032757732743125 with parameters: {'C': 0.07920526724210451}. Best is trial#37 with value: -0.8035709820246815.\n",
      "[I 2020-04-28 01:30:53,827] Finished trial#48 with value: -0.7885046889598188 with parameters: {'C': 7.186420414834248}. Best is trial#37 with value: -0.8035709820246815.\n",
      "[I 2020-04-28 01:30:59,299] Finished trial#49 with value: -0.7986114578734036 with parameters: {'C': 0.02364674915469299}. Best is trial#37 with value: -0.8035709820246815.\n",
      "[I 2020-04-28 01:31:23,231] Finished trial#50 with value: -0.794663035809732 with parameters: {'C': 1.551486067209407}. Best is trial#37 with value: -0.8035709820246815.\n",
      "[I 2020-04-28 01:31:33,412] Finished trial#51 with value: -0.803598942953555 with parameters: {'C': 0.12131122803096789}. Best is trial#51 with value: -0.803598942953555.\n",
      "[I 2020-04-28 01:31:49,676] Finished trial#52 with value: -0.7996579568889842 with parameters: {'C': 0.5558999840663859}. Best is trial#51 with value: -0.803598942953555.\n",
      "[I 2020-04-28 01:31:58,745] Finished trial#53 with value: -0.8035066485988803 with parameters: {'C': 0.09623824512645673}. Best is trial#51 with value: -0.803598942953555.\n",
      "[I 2020-04-28 01:32:09,003] Finished trial#54 with value: -0.803598795636562 with parameters: {'C': 0.12116946585250124}. Best is trial#51 with value: -0.803598942953555.\n",
      "[I 2020-04-28 01:32:12,469] Finished trial#55 with value: -0.7892483256008724 with parameters: {'C': 0.007761154488893654}. Best is trial#51 with value: -0.803598942953555.\n",
      "[I 2020-04-28 01:32:28,598] Finished trial#56 with value: -0.8007266544353726 with parameters: {'C': 0.433325170810646}. Best is trial#51 with value: -0.803598942953555.\n",
      "[I 2020-04-28 01:32:34,573] Finished trial#57 with value: -0.8004464692934568 with parameters: {'C': 0.03290236149145196}. Best is trial#51 with value: -0.803598942953555.\n",
      "[I 2020-04-28 01:32:44,902] Finished trial#58 with value: -0.8035834290352504 with parameters: {'C': 0.13139584419291817}. Best is trial#51 with value: -0.803598942953555.\n",
      "[I 2020-04-28 01:33:15,346] Finished trial#59 with value: -0.7910567339591018 with parameters: {'C': 3.5030207900627253}. Best is trial#51 with value: -0.803598942953555.\n",
      "[I 2020-04-28 01:33:20,285] Finished trial#60 with value: -0.7950077019832428 with parameters: {'C': 0.014324555311532748}. Best is trial#51 with value: -0.803598942953555.\n",
      "[I 2020-04-28 01:33:30,609] Finished trial#61 with value: -0.8035283480737789 with parameters: {'C': 0.14589448353235568}. Best is trial#51 with value: -0.803598942953555.\n",
      "[I 2020-04-28 01:33:41,091] Finished trial#62 with value: -0.8035252866371856 with parameters: {'C': 0.14668188975006669}. Best is trial#51 with value: -0.803598942953555.\n",
      "[I 2020-04-28 01:33:56,641] Finished trial#63 with value: -0.8003607168231772 with parameters: {'C': 0.473359883159848}. Best is trial#51 with value: -0.803598942953555.\n",
      "[I 2020-04-28 01:34:16,775] Finished trial#64 with value: -0.7969308487120987 with parameters: {'C': 0.9794799397255811}. Best is trial#51 with value: -0.803598942953555.\n",
      "[I 2020-04-28 01:34:22,543] Finished trial#65 with value: -0.8009137400027759 with parameters: {'C': 0.03632448103544151}. Best is trial#51 with value: -0.803598942953555.\n",
      "[I 2020-04-28 01:34:25,797] Finished trial#66 with value: -0.784577440039885 with parameters: {'C': 0.005151110334642518}. Best is trial#51 with value: -0.803598942953555.\n",
      "[I 2020-04-28 01:34:36,076] Finished trial#67 with value: -0.8035693084345368 with parameters: {'C': 0.13609566601715922}. Best is trial#51 with value: -0.803598942953555.\n",
      "[I 2020-04-28 01:34:38,209] Finished trial#68 with value: -0.7688597433838807 with parameters: {'C': 0.0016374715302189253}. Best is trial#51 with value: -0.803598942953555.\n",
      "[I 2020-04-28 01:34:50,821] Finished trial#69 with value: -0.8021677986008051 with parameters: {'C': 0.29156218143010965}. Best is trial#51 with value: -0.803598942953555.\n",
      "[I 2020-04-28 01:35:24,252] Finished trial#70 with value: -0.7892012629189203 with parameters: {'C': 5.8064883480691885}. Best is trial#51 with value: -0.803598942953555.\n",
      "[I 2020-04-28 01:35:34,135] Finished trial#71 with value: -0.8035990282437903 with parameters: {'C': 0.11936343670042189}. Best is trial#71 with value: -0.8035990282437903.\n",
      "[I 2020-04-28 01:35:53,413] Finished trial#72 with value: -0.7977894104065886 with parameters: {'C': 0.8221817360532314}. Best is trial#71 with value: -0.8035990282437903.\n",
      "[I 2020-04-28 01:35:54,013] Finished trial#73 with value: -0.6106058360637739 with parameters: {'C': 6.644268729293986e-09}. Best is trial#71 with value: -0.8035990282437903.\n",
      "[I 2020-04-28 01:35:58,865] Finished trial#74 with value: -0.7973042999460987 with parameters: {'C': 0.019389442111115037}. Best is trial#71 with value: -0.8035990282437903.\n",
      "[I 2020-04-28 01:36:05,556] Finished trial#75 with value: -0.8024685724811915 with parameters: {'C': 0.05518398083174508}. Best is trial#71 with value: -0.8035990282437903.\n",
      "[I 2020-04-28 01:36:15,388] Finished trial#76 with value: -0.8035665588883016 with parameters: {'C': 0.13681213870052497}. Best is trial#71 with value: -0.8035990282437903.\n",
      "[I 2020-04-28 01:36:28,755] Finished trial#77 with value: -0.8018092101983127 with parameters: {'C': 0.32576342885955145}. Best is trial#71 with value: -0.8035990282437903.\n",
      "[I 2020-04-28 01:36:51,682] Finished trial#78 with value: -0.7947404886383295 with parameters: {'C': 1.5281461048985083}. Best is trial#71 with value: -0.8035990282437903.\n",
      "[I 2020-04-28 01:37:01,905] Finished trial#79 with value: -0.8035973057427046 with parameters: {'C': 0.12366470158788204}. Best is trial#71 with value: -0.8035990282437903.\n",
      "[I 2020-04-28 01:37:13,093] Finished trial#80 with value: -0.8034038812396382 with parameters: {'C': 0.1659237404378804}. Best is trial#71 with value: -0.8035990282437903.\n",
      "[I 2020-04-28 01:37:20,253] Finished trial#81 with value: -0.8021393063195754 with parameters: {'C': 0.049660908039614975}. Best is trial#71 with value: -0.8035990282437903.\n",
      "[I 2020-04-28 01:37:30,360] Finished trial#82 with value: -0.8035985135719198 with parameters: {'C': 0.12182965109539637}. Best is trial#71 with value: -0.8035990282437903.\n",
      "[I 2020-04-28 01:37:47,468] Finished trial#83 with value: -0.7998232070565224 with parameters: {'C': 0.5352280125419913}. Best is trial#71 with value: -0.8035990282437903.\n",
      "[I 2020-04-28 01:37:59,031] Finished trial#84 with value: -0.8026994891963621 with parameters: {'C': 0.24146698538232114}. Best is trial#71 with value: -0.8035990282437903.\n",
      "[I 2020-04-28 01:38:03,142] Finished trial#85 with value: -0.7924392126384197 with parameters: {'C': 0.010684175704178801}. Best is trial#71 with value: -0.8035990282437903.\n",
      "[I 2020-04-28 01:38:09,040] Finished trial#86 with value: -0.7992648759438691 with parameters: {'C': 0.02637434896093996}. Best is trial#71 with value: -0.8035990282437903.\n",
      "[I 2020-04-28 01:38:16,098] Finished trial#87 with value: -0.8020100237556207 with parameters: {'C': 0.047803817124364295}. Best is trial#71 with value: -0.8035990282437903.\n",
      "[I 2020-04-28 01:38:25,818] Finished trial#88 with value: -0.803587488335799 with parameters: {'C': 0.11123400056193304}. Best is trial#71 with value: -0.8035990282437903.\n",
      "[I 2020-04-28 01:38:54,565] Finished trial#89 with value: -0.7921511367641253 with parameters: {'C': 2.68488885931354}. Best is trial#71 with value: -0.8035990282437903.\n",
      "[I 2020-04-28 01:39:03,759] Finished trial#90 with value: -0.8034245393202122 with parameters: {'C': 0.08853605609876065}. Best is trial#71 with value: -0.8035990282437903.\n",
      "[I 2020-04-28 01:39:13,628] Finished trial#91 with value: -0.8035770816424378 with parameters: {'C': 0.133819815278951}. Best is trial#71 with value: -0.8035990282437903.\n",
      "[I 2020-04-28 01:39:26,635] Finished trial#92 with value: -0.802475134695201 with parameters: {'C': 0.26247825897911703}. Best is trial#71 with value: -0.8035990282437903.\n",
      "[I 2020-04-28 01:39:43,737] Finished trial#93 with value: -0.7988331032972308 with parameters: {'C': 0.6635006125879228}. Best is trial#71 with value: -0.8035990282437903.\n"
     ]
    },
    {
     "name": "stderr",
     "output_type": "stream",
     "text": [
      "[I 2020-04-28 01:39:53,337] Finished trial#94 with value: -0.8035811911524317 with parameters: {'C': 0.10919163030227791}. Best is trial#71 with value: -0.8035990282437903.\n",
      "[I 2020-04-28 01:39:58,200] Finished trial#95 with value: -0.797494760282544 with parameters: {'C': 0.01992614699201391}. Best is trial#71 with value: -0.8035990282437903.\n",
      "[I 2020-04-28 01:40:01,514] Finished trial#96 with value: -0.7865276623681889 with parameters: {'C': 0.006071936381957073}. Best is trial#71 with value: -0.8035990282437903.\n",
      "[I 2020-04-28 01:40:07,691] Finished trial#97 with value: -0.8007500799261035 with parameters: {'C': 0.03505995356987197}. Best is trial#71 with value: -0.8035990282437903.\n",
      "[I 2020-04-28 01:40:15,829] Finished trial#98 with value: -0.8029487311935048 with parameters: {'C': 0.06657542089488627}. Best is trial#71 with value: -0.8035990282437903.\n",
      "[I 2020-04-28 01:40:30,459] Finished trial#99 with value: -0.8013394157784817 with parameters: {'C': 0.3707677113838552}. Best is trial#71 with value: -0.8035990282437903.\n"
     ]
    }
   ],
   "source": [
    "# tune C \n",
    "def objective(trial):\n",
    "    C=trial.suggest_loguniform('C', 10e-10, 10)\n",
    "    model=LogisticRegression(C=C,max_iter=10000, solver='liblinear')\n",
    "    score=-cross_val_score(model, train_ohe, target, scoring='roc_auc', n_jobs=-1).mean()\n",
    "    return score\n",
    "\n",
    "study=optuna.create_study()\n",
    "study.optimize(objective, n_trials=100)\n",
    "tuned_C=study.best_params"
   ]
  },
  {
   "cell_type": "code",
   "execution_count": 13,
   "metadata": {},
   "outputs": [],
   "source": [
    "model=LogisticRegression(C=tuned_C['C'], solver=\"liblinear\", max_iter=10000)\n",
    "model.fit(train_ohe, target)\n",
    "pred=model.predict_proba(test_ohe)[:,1]"
   ]
  },
  {
   "cell_type": "code",
   "execution_count": 14,
   "metadata": {},
   "outputs": [
    {
     "name": "stdout",
     "output_type": "stream",
     "text": [
      "0.8035653984165766\n"
     ]
    }
   ],
   "source": [
    "from sklearn.model_selection import cross_validate\n",
    "score=cross_val_score(model, train_ohe, target, scoring=\"roc_auc\")[\"test_score\"].mean()\n",
    "print(score)"
   ]
  },
  {
   "cell_type": "code",
   "execution_count": 15,
   "metadata": {},
   "outputs": [],
   "source": [
    "submission = pd.DataFrame({'id': test_id, 'target': pred})\n",
    "submission.to_csv('submission.csv', index=False)"
   ]
  }
 ],
 "metadata": {
  "kernelspec": {
   "display_name": "Python 3",
   "language": "python",
   "name": "python3"
  },
  "language_info": {
   "codemirror_mode": {
    "name": "ipython",
    "version": 3
   },
   "file_extension": ".py",
   "mimetype": "text/x-python",
   "name": "python",
   "nbconvert_exporter": "python",
   "pygments_lexer": "ipython3",
   "version": "3.7.6"
  }
 },
 "nbformat": 4,
 "nbformat_minor": 4
}
