{
 "cells": [
  {
   "cell_type": "code",
   "execution_count": 20,
   "metadata": {},
   "outputs": [],
   "source": [
    "import numpy as np\n",
    "import pandas as pd\n",
    "from pandas.api.types import CategoricalDtype \n",
    "\n",
    "from sklearn.model_selection import cross_val_score\n",
    "from sklearn.linear_model import LogisticRegression\n",
    "\n",
    "import scipy\n",
    "import optuna"
   ]
  },
  {
   "cell_type": "code",
   "execution_count": 21,
   "metadata": {},
   "outputs": [
    {
     "ename": "KeyError",
     "evalue": "\"['bin0'] not found in axis\"",
     "output_type": "error",
     "traceback": [
      "\u001b[1;31m---------------------------------------------------------------------------\u001b[0m",
      "\u001b[1;31mKeyError\u001b[0m                                  Traceback (most recent call last)",
      "\u001b[1;32m<ipython-input-21-005baa34753d>\u001b[0m in \u001b[0;36m<module>\u001b[1;34m\u001b[0m\n\u001b[0;32m      7\u001b[0m \u001b[0mtarget\u001b[0m \u001b[1;33m=\u001b[0m \u001b[0mtrain\u001b[0m\u001b[1;33m[\u001b[0m\u001b[1;34m'target'\u001b[0m\u001b[1;33m]\u001b[0m\u001b[1;33m\u001b[0m\u001b[1;33m\u001b[0m\u001b[0m\n\u001b[0;32m      8\u001b[0m \u001b[0mtrain\u001b[0m\u001b[1;33m.\u001b[0m\u001b[0mdrop\u001b[0m\u001b[1;33m(\u001b[0m\u001b[1;33m[\u001b[0m\u001b[1;34m'target'\u001b[0m\u001b[1;33m,\u001b[0m \u001b[1;34m'id'\u001b[0m\u001b[1;33m,\u001b[0m \u001b[1;34m'bin_0'\u001b[0m\u001b[1;33m]\u001b[0m\u001b[1;33m,\u001b[0m \u001b[0maxis\u001b[0m\u001b[1;33m=\u001b[0m\u001b[1;36m1\u001b[0m\u001b[1;33m,\u001b[0m \u001b[0minplace\u001b[0m\u001b[1;33m=\u001b[0m\u001b[1;32mTrue\u001b[0m\u001b[1;33m)\u001b[0m\u001b[1;33m\u001b[0m\u001b[1;33m\u001b[0m\u001b[0m\n\u001b[1;32m----> 9\u001b[1;33m \u001b[0mtest\u001b[0m\u001b[1;33m.\u001b[0m\u001b[0mdrop\u001b[0m\u001b[1;33m(\u001b[0m\u001b[1;33m[\u001b[0m\u001b[1;34m'id'\u001b[0m\u001b[1;33m,\u001b[0m\u001b[1;34m'bin0'\u001b[0m\u001b[1;33m]\u001b[0m\u001b[1;33m,\u001b[0m \u001b[0maxis\u001b[0m\u001b[1;33m=\u001b[0m\u001b[1;36m1\u001b[0m\u001b[1;33m,\u001b[0m \u001b[0minplace\u001b[0m\u001b[1;33m=\u001b[0m\u001b[1;32mTrue\u001b[0m\u001b[1;33m)\u001b[0m\u001b[1;33m\u001b[0m\u001b[1;33m\u001b[0m\u001b[0m\n\u001b[0m",
      "\u001b[1;32mE:\\Anaconda3\\envs\\ChrisML\\lib\\site-packages\\pandas\\core\\frame.py\u001b[0m in \u001b[0;36mdrop\u001b[1;34m(self, labels, axis, index, columns, level, inplace, errors)\u001b[0m\n\u001b[0;32m   3995\u001b[0m             \u001b[0mlevel\u001b[0m\u001b[1;33m=\u001b[0m\u001b[0mlevel\u001b[0m\u001b[1;33m,\u001b[0m\u001b[1;33m\u001b[0m\u001b[1;33m\u001b[0m\u001b[0m\n\u001b[0;32m   3996\u001b[0m             \u001b[0minplace\u001b[0m\u001b[1;33m=\u001b[0m\u001b[0minplace\u001b[0m\u001b[1;33m,\u001b[0m\u001b[1;33m\u001b[0m\u001b[1;33m\u001b[0m\u001b[0m\n\u001b[1;32m-> 3997\u001b[1;33m             \u001b[0merrors\u001b[0m\u001b[1;33m=\u001b[0m\u001b[0merrors\u001b[0m\u001b[1;33m,\u001b[0m\u001b[1;33m\u001b[0m\u001b[1;33m\u001b[0m\u001b[0m\n\u001b[0m\u001b[0;32m   3998\u001b[0m         )\n\u001b[0;32m   3999\u001b[0m \u001b[1;33m\u001b[0m\u001b[0m\n",
      "\u001b[1;32mE:\\Anaconda3\\envs\\ChrisML\\lib\\site-packages\\pandas\\core\\generic.py\u001b[0m in \u001b[0;36mdrop\u001b[1;34m(self, labels, axis, index, columns, level, inplace, errors)\u001b[0m\n\u001b[0;32m   3934\u001b[0m         \u001b[1;32mfor\u001b[0m \u001b[0maxis\u001b[0m\u001b[1;33m,\u001b[0m \u001b[0mlabels\u001b[0m \u001b[1;32min\u001b[0m \u001b[0maxes\u001b[0m\u001b[1;33m.\u001b[0m\u001b[0mitems\u001b[0m\u001b[1;33m(\u001b[0m\u001b[1;33m)\u001b[0m\u001b[1;33m:\u001b[0m\u001b[1;33m\u001b[0m\u001b[1;33m\u001b[0m\u001b[0m\n\u001b[0;32m   3935\u001b[0m             \u001b[1;32mif\u001b[0m \u001b[0mlabels\u001b[0m \u001b[1;32mis\u001b[0m \u001b[1;32mnot\u001b[0m \u001b[1;32mNone\u001b[0m\u001b[1;33m:\u001b[0m\u001b[1;33m\u001b[0m\u001b[1;33m\u001b[0m\u001b[0m\n\u001b[1;32m-> 3936\u001b[1;33m                 \u001b[0mobj\u001b[0m \u001b[1;33m=\u001b[0m \u001b[0mobj\u001b[0m\u001b[1;33m.\u001b[0m\u001b[0m_drop_axis\u001b[0m\u001b[1;33m(\u001b[0m\u001b[0mlabels\u001b[0m\u001b[1;33m,\u001b[0m \u001b[0maxis\u001b[0m\u001b[1;33m,\u001b[0m \u001b[0mlevel\u001b[0m\u001b[1;33m=\u001b[0m\u001b[0mlevel\u001b[0m\u001b[1;33m,\u001b[0m \u001b[0merrors\u001b[0m\u001b[1;33m=\u001b[0m\u001b[0merrors\u001b[0m\u001b[1;33m)\u001b[0m\u001b[1;33m\u001b[0m\u001b[1;33m\u001b[0m\u001b[0m\n\u001b[0m\u001b[0;32m   3937\u001b[0m \u001b[1;33m\u001b[0m\u001b[0m\n\u001b[0;32m   3938\u001b[0m         \u001b[1;32mif\u001b[0m \u001b[0minplace\u001b[0m\u001b[1;33m:\u001b[0m\u001b[1;33m\u001b[0m\u001b[1;33m\u001b[0m\u001b[0m\n",
      "\u001b[1;32mE:\\Anaconda3\\envs\\ChrisML\\lib\\site-packages\\pandas\\core\\generic.py\u001b[0m in \u001b[0;36m_drop_axis\u001b[1;34m(self, labels, axis, level, errors)\u001b[0m\n\u001b[0;32m   3968\u001b[0m                 \u001b[0mnew_axis\u001b[0m \u001b[1;33m=\u001b[0m \u001b[0maxis\u001b[0m\u001b[1;33m.\u001b[0m\u001b[0mdrop\u001b[0m\u001b[1;33m(\u001b[0m\u001b[0mlabels\u001b[0m\u001b[1;33m,\u001b[0m \u001b[0mlevel\u001b[0m\u001b[1;33m=\u001b[0m\u001b[0mlevel\u001b[0m\u001b[1;33m,\u001b[0m \u001b[0merrors\u001b[0m\u001b[1;33m=\u001b[0m\u001b[0merrors\u001b[0m\u001b[1;33m)\u001b[0m\u001b[1;33m\u001b[0m\u001b[1;33m\u001b[0m\u001b[0m\n\u001b[0;32m   3969\u001b[0m             \u001b[1;32melse\u001b[0m\u001b[1;33m:\u001b[0m\u001b[1;33m\u001b[0m\u001b[1;33m\u001b[0m\u001b[0m\n\u001b[1;32m-> 3970\u001b[1;33m                 \u001b[0mnew_axis\u001b[0m \u001b[1;33m=\u001b[0m \u001b[0maxis\u001b[0m\u001b[1;33m.\u001b[0m\u001b[0mdrop\u001b[0m\u001b[1;33m(\u001b[0m\u001b[0mlabels\u001b[0m\u001b[1;33m,\u001b[0m \u001b[0merrors\u001b[0m\u001b[1;33m=\u001b[0m\u001b[0merrors\u001b[0m\u001b[1;33m)\u001b[0m\u001b[1;33m\u001b[0m\u001b[1;33m\u001b[0m\u001b[0m\n\u001b[0m\u001b[0;32m   3971\u001b[0m             \u001b[0mresult\u001b[0m \u001b[1;33m=\u001b[0m \u001b[0mself\u001b[0m\u001b[1;33m.\u001b[0m\u001b[0mreindex\u001b[0m\u001b[1;33m(\u001b[0m\u001b[1;33m**\u001b[0m\u001b[1;33m{\u001b[0m\u001b[0maxis_name\u001b[0m\u001b[1;33m:\u001b[0m \u001b[0mnew_axis\u001b[0m\u001b[1;33m}\u001b[0m\u001b[1;33m)\u001b[0m\u001b[1;33m\u001b[0m\u001b[1;33m\u001b[0m\u001b[0m\n\u001b[0;32m   3972\u001b[0m \u001b[1;33m\u001b[0m\u001b[0m\n",
      "\u001b[1;32mE:\\Anaconda3\\envs\\ChrisML\\lib\\site-packages\\pandas\\core\\indexes\\base.py\u001b[0m in \u001b[0;36mdrop\u001b[1;34m(self, labels, errors)\u001b[0m\n\u001b[0;32m   5016\u001b[0m         \u001b[1;32mif\u001b[0m \u001b[0mmask\u001b[0m\u001b[1;33m.\u001b[0m\u001b[0many\u001b[0m\u001b[1;33m(\u001b[0m\u001b[1;33m)\u001b[0m\u001b[1;33m:\u001b[0m\u001b[1;33m\u001b[0m\u001b[1;33m\u001b[0m\u001b[0m\n\u001b[0;32m   5017\u001b[0m             \u001b[1;32mif\u001b[0m \u001b[0merrors\u001b[0m \u001b[1;33m!=\u001b[0m \u001b[1;34m\"ignore\"\u001b[0m\u001b[1;33m:\u001b[0m\u001b[1;33m\u001b[0m\u001b[1;33m\u001b[0m\u001b[0m\n\u001b[1;32m-> 5018\u001b[1;33m                 \u001b[1;32mraise\u001b[0m \u001b[0mKeyError\u001b[0m\u001b[1;33m(\u001b[0m\u001b[1;34mf\"{labels[mask]} not found in axis\"\u001b[0m\u001b[1;33m)\u001b[0m\u001b[1;33m\u001b[0m\u001b[1;33m\u001b[0m\u001b[0m\n\u001b[0m\u001b[0;32m   5019\u001b[0m             \u001b[0mindexer\u001b[0m \u001b[1;33m=\u001b[0m \u001b[0mindexer\u001b[0m\u001b[1;33m[\u001b[0m\u001b[1;33m~\u001b[0m\u001b[0mmask\u001b[0m\u001b[1;33m]\u001b[0m\u001b[1;33m\u001b[0m\u001b[1;33m\u001b[0m\u001b[0m\n\u001b[0;32m   5020\u001b[0m         \u001b[1;32mreturn\u001b[0m \u001b[0mself\u001b[0m\u001b[1;33m.\u001b[0m\u001b[0mdelete\u001b[0m\u001b[1;33m(\u001b[0m\u001b[0mindexer\u001b[0m\u001b[1;33m)\u001b[0m\u001b[1;33m\u001b[0m\u001b[1;33m\u001b[0m\u001b[0m\n",
      "\u001b[1;31mKeyError\u001b[0m: \"['bin0'] not found in axis\""
     ]
    }
   ],
   "source": [
    "# Load data\n",
    "train = pd.read_csv('train.csv')\n",
    "test = pd.read_csv('test.csv')\n",
    "\n",
    "# Subset\n",
    "test_id = test['id']\n",
    "target = train['target']\n",
    "train.drop(['target', 'id', 'bin_0'], axis=1, inplace=True)\n",
    "test.drop(['id','bin0'], axis=1, inplace=True)"
   ]
  },
  {
   "cell_type": "code",
   "execution_count": null,
   "metadata": {},
   "outputs": [],
   "source": [
    "# dictionary to map the feature\n",
    "bin_dict = {'T':1, 'F':0, 'Y':1, 'N':0}\n",
    "\n",
    "# Maping the category values in our dict\n",
    "train['bin_3'] = train['bin_3'].map(bin_dict)\n",
    "train['bin_4'] = train['bin_4'].map(bin_dict)\n",
    "test['bin_3'] = test['bin_3'].map(bin_dict)\n",
    "test['bin_4'] = test['bin_4'].map(bin_dict)"
   ]
  },
  {
   "cell_type": "code",
   "execution_count": 22,
   "metadata": {},
   "outputs": [],
   "source": [
    "# seting the orders of our ordinal features\n",
    "ord_1 = CategoricalDtype(categories=['Novice', 'Contributor','Expert', \n",
    "                                     'Master', 'Grandmaster'], ordered=True)\n",
    "ord_2 = CategoricalDtype(categories=['Freezing', 'Cold', 'Warm', 'Hot',\n",
    "                                     'Boiling Hot', 'Lava Hot'], ordered=True)\n",
    "ord_3 = CategoricalDtype(categories=['a', 'b', 'c', 'd', 'e', 'f', 'g',\n",
    "                                     'h', 'i', 'j', 'k', 'l', 'm', 'n', 'o'], ordered=True)\n",
    "ord_4 = CategoricalDtype(categories=['A', 'B', 'C', 'D', 'E', 'F', 'G', 'H', 'I',\n",
    "                                     'J', 'K', 'L', 'M', 'N', 'O', 'P', 'Q', 'R',\n",
    "                                     'S', 'T', 'U', 'V', 'W', 'X', 'Y', 'Z'], ordered=True)"
   ]
  },
  {
   "cell_type": "code",
   "execution_count": 23,
   "metadata": {},
   "outputs": [],
   "source": [
    "# Transforming ordinal Features\n",
    "train.ord_1 = train.ord_1.astype(ord_1)\n",
    "train.ord_2 = train.ord_2.astype(ord_2)\n",
    "train.ord_3 = train.ord_3.astype(ord_3)\n",
    "train.ord_4 = train.ord_4.astype(ord_4)\n",
    "\n",
    "# test dataset\n",
    "test.ord_1 = test.ord_1.astype(ord_1)\n",
    "test.ord_2 = test.ord_2.astype(ord_2)\n",
    "test.ord_3 = test.ord_3.astype(ord_3)\n",
    "test.ord_4 = test.ord_4.astype(ord_4)"
   ]
  },
  {
   "cell_type": "code",
   "execution_count": 24,
   "metadata": {},
   "outputs": [],
   "source": [
    "# Geting the codes of ordinal categoy's - train\n",
    "train.ord_1 = train.ord_1.cat.codes\n",
    "train.ord_2 = train.ord_2.cat.codes\n",
    "train.ord_3 = train.ord_3.cat.codes\n",
    "train.ord_4 = train.ord_4.cat.codes\n",
    "\n",
    "# Geting the codes of ordinal categoy's - test\n",
    "test.ord_1 = test.ord_1.cat.codes\n",
    "test.ord_2 = test.ord_2.cat.codes\n",
    "test.ord_3 = test.ord_3.cat.codes\n",
    "test.ord_4 = test.ord_4.cat.codes"
   ]
  },
  {
   "cell_type": "code",
   "execution_count": 25,
   "metadata": {},
   "outputs": [],
   "source": [
    "day_month=['day','month']\n",
    "for col in day_month:\n",
    "    train[col+'_sin']=np.sin((2*np.pi*train[col])/max(train[col]))\n",
    "    train[col+'_cos']=np.cos((2*np.pi*train[col])/max(train[col]))\n",
    "    test[col+'_sin']=np.sin((2*np.pi*test[col])/max(test[col]))\n",
    "    test[col+'_cos']=np.cos((2*np.pi*test[col])/max(test[col]))\n",
    "train=train.drop(day_month,axis=1)\n",
    "test=test.drop(day_month,axis=1)"
   ]
  },
  {
   "cell_type": "code",
   "execution_count": 26,
   "metadata": {},
   "outputs": [],
   "source": [
    "all_data = pd.concat((train,test))"
   ]
  },
  {
   "cell_type": "code",
   "execution_count": 27,
   "metadata": {},
   "outputs": [],
   "source": [
    "encoded=pd.get_dummies(all_data, columns=all_data.columns, sparse=True)\n",
    "encoded=encoded.sparse.to_coo().tocsr()"
   ]
  },
  {
   "cell_type": "code",
   "execution_count": 28,
   "metadata": {},
   "outputs": [],
   "source": [
    "train_ohe = encoded[:len(train)]\n",
    "test_ohe = encoded[len(train):]"
   ]
  },
  {
   "cell_type": "code",
   "execution_count": 29,
   "metadata": {},
   "outputs": [],
   "source": [
    "model=LogisticRegression(C=0.12299878403389289, solver=\"liblinear\", max_iter=10000)\n",
    "model.fit(train_ohe, target)\n",
    "pred=model.predict_proba(test_ohe)[:,1]"
   ]
  },
  {
   "cell_type": "code",
   "execution_count": 30,
   "metadata": {},
   "outputs": [
    {
     "name": "stdout",
     "output_type": "stream",
     "text": [
      "0.8035991313668722\n"
     ]
    }
   ],
   "source": [
    "from sklearn.model_selection import cross_validate\n",
    "score=cross_val_score(model, train_ohe, target,scoring=\"roc_auc\", n_jobs=-1).mean()\n",
    "print(score)"
   ]
  },
  {
   "cell_type": "code",
   "execution_count": 14,
   "metadata": {
    "scrolled": false
   },
   "outputs": [
    {
     "name": "stderr",
     "output_type": "stream",
     "text": [
      "[I 2020-04-28 13:30:06,217] Finished trial#0 with value: -0.6129950850980826 with parameters: {'C': 7.946164580413913e-09}. Best is trial#0 with value: -0.6129950850980826.\n",
      "[I 2020-04-28 13:30:07,828] Finished trial#1 with value: -0.740319421414663 with parameters: {'C': 0.0002167968974349058}. Best is trial#1 with value: -0.740319421414663.\n",
      "[I 2020-04-28 13:30:08,663] Finished trial#2 with value: -0.6854744020219706 with parameters: {'C': 6.524880868257699e-06}. Best is trial#1 with value: -0.740319421414663.\n",
      "[I 2020-04-28 13:30:10,838] Finished trial#3 with value: -0.7668681238551768 with parameters: {'C': 0.0014406295637030904}. Best is trial#3 with value: -0.7668681238551768.\n",
      "[I 2020-04-28 13:30:11,456] Finished trial#4 with value: -0.6140557909199682 with parameters: {'C': 5.410234676367516e-08}. Best is trial#3 with value: -0.7668681238551768.\n",
      "[I 2020-04-28 13:30:12,078] Finished trial#5 with value: -0.6128428005386504 with parameters: {'C': 1.3557809442551843e-09}. Best is trial#3 with value: -0.7668681238551768.\n",
      "[I 2020-04-28 13:30:13,509] Finished trial#6 with value: -0.7382778254422833 with parameters: {'C': 0.0001852333043838534}. Best is trial#3 with value: -0.7668681238551768.\n",
      "[I 2020-04-28 13:30:16,618] Finished trial#7 with value: -0.7812845229431818 with parameters: {'C': 0.0039803171682531386}. Best is trial#7 with value: -0.7812845229431818.\n",
      "[I 2020-04-28 13:30:18,716] Finished trial#8 with value: -0.7640291821302662 with parameters: {'C': 0.001188265681926433}. Best is trial#7 with value: -0.7812845229431818.\n",
      "[I 2020-04-28 13:30:19,575] Finished trial#9 with value: -0.6715775766506484 with parameters: {'C': 4.207086727124818e-06}. Best is trial#7 with value: -0.7812845229431818.\n",
      "[I 2020-04-28 13:30:50,554] Finished trial#10 with value: -0.7918789044328529 with parameters: {'C': 2.86643587137216}. Best is trial#10 with value: -0.7918789044328529.\n",
      "[I 2020-04-28 13:31:29,690] Finished trial#11 with value: -0.7888494451690048 with parameters: {'C': 6.461482519589611}. Best is trial#10 with value: -0.7918789044328529.\n",
      "[I 2020-04-28 13:32:10,463] Finished trial#12 with value: -0.7884723160462521 with parameters: {'C': 7.2642377630042585}. Best is trial#10 with value: -0.7918789044328529.\n",
      "[I 2020-04-28 13:32:52,823] Finished trial#13 with value: -0.7876473968151811 with parameters: {'C': 9.585943652790338}. Best is trial#10 with value: -0.7918789044328529.\n",
      "[I 2020-04-28 13:33:04,616] Finished trial#14 with value: -0.8032572557766106 with parameters: {'C': 0.1841086929368281}. Best is trial#14 with value: -0.8032572557766106.\n",
      "[I 2020-04-28 13:33:15,897] Finished trial#15 with value: -0.8035164039798601 with parameters: {'C': 0.14838000055924894}. Best is trial#15 with value: -0.8035164039798601.\n",
      "[I 2020-04-28 13:33:24,481] Finished trial#16 with value: -0.8025292753943605 with parameters: {'C': 0.056416319424154676}. Best is trial#15 with value: -0.8035164039798601.\n",
      "[I 2020-04-28 13:33:33,640] Finished trial#17 with value: -0.803527301418397 with parameters: {'C': 0.09889080127070168}. Best is trial#17 with value: -0.803527301418397.\n",
      "[I 2020-04-28 13:33:47,906] Finished trial#18 with value: -0.8029017497329554 with parameters: {'C': 0.2217209874944687}. Best is trial#17 with value: -0.803527301418397.\n",
      "[I 2020-04-28 13:33:54,457] Finished trial#19 with value: -0.8005650928236678 with parameters: {'C': 0.033736085375358806}. Best is trial#17 with value: -0.803527301418397.\n",
      "[I 2020-04-28 13:34:16,368] Finished trial#20 with value: -0.7979317344551129 with parameters: {'C': 0.7998956437315243}. Best is trial#17 with value: -0.803527301418397.\n",
      "[I 2020-04-28 13:34:21,049] Finished trial#21 with value: -0.7957687874901671 with parameters: {'C': 0.015772107222580687}. Best is trial#17 with value: -0.803527301418397.\n",
      "[I 2020-04-28 13:34:36,690] Finished trial#22 with value: -0.8020797219369704 with parameters: {'C': 0.29983803527282266}. Best is trial#17 with value: -0.803527301418397.\n",
      "[I 2020-04-28 13:34:56,020] Finished trial#23 with value: -0.7987431499032075 with parameters: {'C': 0.67586647951301}. Best is trial#17 with value: -0.803527301418397.\n",
      "[I 2020-04-28 13:34:59,671] Finished trial#24 with value: -0.7887887167537023 with parameters: {'C': 0.007448076024057738}. Best is trial#17 with value: -0.803527301418397.\n",
      "[I 2020-04-28 13:35:09,368] Finished trial#25 with value: -0.803377554378582 with parameters: {'C': 0.08514526526111375}. Best is trial#17 with value: -0.803527301418397.\n",
      "[I 2020-04-28 13:35:10,239] Finished trial#26 with value: -0.709441792901698 with parameters: {'C': 1.8349756205840568e-05}. Best is trial#17 with value: -0.803527301418397.\n",
      "[I 2020-04-28 13:35:17,529] Finished trial#27 with value: -0.8013695622095829 with parameters: {'C': 0.04039914167227275}. Best is trial#17 with value: -0.803527301418397.\n",
      "[I 2020-04-28 13:35:45,856] Finished trial#28 with value: -0.7938435177051592 with parameters: {'C': 1.8458518022229649}. Best is trial#17 with value: -0.803527301418397.\n",
      "[I 2020-04-28 13:35:56,253] Finished trial#29 with value: -0.8035853544893692 with parameters: {'C': 0.11051710290102787}. Best is trial#29 with value: -0.8035853544893692.\n",
      "[I 2020-04-28 13:35:58,463] Finished trial#30 with value: -0.7685498904915613 with parameters: {'C': 0.0016145369640232585}. Best is trial#29 with value: -0.8035853544893692.\n",
      "[I 2020-04-28 13:36:06,105] Finished trial#31 with value: -0.8023153870421321 with parameters: {'C': 0.05249466654065946}. Best is trial#29 with value: -0.8035853544893692.\n",
      "[I 2020-04-28 13:36:17,017] Finished trial#32 with value: -0.803534610715684 with parameters: {'C': 0.14461678918512355}. Best is trial#29 with value: -0.8035853544893692.\n",
      "[I 2020-04-28 13:36:39,099] Finished trial#33 with value: -0.7966015419373911 with parameters: {'C': 1.0486083319709665}. Best is trial#29 with value: -0.8035853544893692.\n",
      "[I 2020-04-28 13:36:42,721] Finished trial#34 with value: -0.7849169553706876 with parameters: {'C': 0.00531179342155598}. Best is trial#29 with value: -0.8035853544893692.\n",
      "[I 2020-04-28 13:36:44,480] Finished trial#35 with value: -0.7572473708514618 with parameters: {'C': 0.0007456399252482968}. Best is trial#29 with value: -0.8035853544893692.\n",
      "[I 2020-04-28 13:36:49,077] Finished trial#36 with value: -0.7945853680169662 with parameters: {'C': 0.013622387857799099}. Best is trial#29 with value: -0.8035853544893692.\n",
      "[I 2020-04-28 13:37:00,551] Finished trial#37 with value: -0.8034972215090782 with parameters: {'C': 0.1518596691004694}. Best is trial#29 with value: -0.8035853544893692.\n",
      "[I 2020-04-28 13:37:01,843] Finished trial#38 with value: -0.7257300846632282 with parameters: {'C': 6.614544475298322e-05}. Best is trial#29 with value: -0.8035853544893692.\n",
      "[I 2020-04-28 13:37:02,658] Finished trial#39 with value: -0.6256704247434701 with parameters: {'C': 5.983561790020146e-07}. Best is trial#29 with value: -0.8035853544893692.\n",
      "[I 2020-04-28 13:37:04,245] Finished trial#40 with value: -0.744536005068438 with parameters: {'C': 0.00029822261017874965}. Best is trial#29 with value: -0.8035853544893692.\n",
      "[I 2020-04-28 13:37:20,504] Finished trial#41 with value: -0.8020581905034657 with parameters: {'C': 0.30189168208799577}. Best is trial#29 with value: -0.8035853544893692.\n",
      "[I 2020-04-28 13:37:31,265] Finished trial#42 with value: -0.8035823816222021 with parameters: {'C': 0.1318041072110986}. Best is trial#29 with value: -0.8035853544893692.\n",
      "[I 2020-04-28 13:38:03,329] Finished trial#43 with value: -0.7922169441061918 with parameters: {'C': 2.645636792480086}. Best is trial#29 with value: -0.8035853544893692.\n",
      "[I 2020-04-28 13:38:09,209] Finished trial#44 with value: -0.7980937617205661 with parameters: {'C': 0.021811642324086725}. Best is trial#29 with value: -0.8035853544893692.\n",
      "[I 2020-04-28 13:38:12,059] Finished trial#45 with value: -0.780574497277591 with parameters: {'C': 0.0037704839245586578}. Best is trial#29 with value: -0.8035853544893692.\n",
      "[I 2020-04-28 13:38:30,986] Finished trial#46 with value: -0.7997519767233625 with parameters: {'C': 0.5435395567795339}. Best is trial#29 with value: -0.8035853544893692.\n"
     ]
    },
    {
     "name": "stderr",
     "output_type": "stream",
     "text": [
      "[I 2020-04-28 13:38:40,471] Finished trial#47 with value: -0.8033881744846454 with parameters: {'C': 0.08586733631640169}. Best is trial#29 with value: -0.8035853544893692.\n",
      "[I 2020-04-28 13:39:17,070] Finished trial#48 with value: -0.7903907441745828 with parameters: {'C': 4.157821236681964}. Best is trial#29 with value: -0.8035853544893692.\n",
      "[I 2020-04-28 13:39:19,914] Finished trial#49 with value: -0.7751604636962192 with parameters: {'C': 0.0025447768739887103}. Best is trial#29 with value: -0.8035853544893692.\n",
      "[I 2020-04-28 13:39:24,780] Finished trial#50 with value: -0.7923747322445505 with parameters: {'C': 0.010626544944678266}. Best is trial#29 with value: -0.8035853544893692.\n",
      "[I 2020-04-28 13:39:35,512] Finished trial#51 with value: -0.8035923802452313 with parameters: {'C': 0.12751807867901743}. Best is trial#51 with value: -0.8035923802452313.\n",
      "[I 2020-04-28 13:39:46,563] Finished trial#52 with value: -0.80359364295127 with parameters: {'C': 0.11420316475909739}. Best is trial#52 with value: -0.80359364295127.\n",
      "[I 2020-04-28 13:40:12,215] Finished trial#53 with value: -0.7945000934984329 with parameters: {'C': 1.607931408291594}. Best is trial#52 with value: -0.80359364295127.\n",
      "[I 2020-04-28 13:40:26,532] Finished trial#54 with value: -0.8014750551043773 with parameters: {'C': 0.35834989043280235}. Best is trial#52 with value: -0.80359364295127.\n",
      "[I 2020-04-28 13:40:35,667] Finished trial#55 with value: -0.8035662012765611 with parameters: {'C': 0.1055074176711468}. Best is trial#52 with value: -0.80359364295127.\n",
      "[I 2020-04-28 13:40:41,849] Finished trial#56 with value: -0.7994684466911834 with parameters: {'C': 0.027343420428949425}. Best is trial#52 with value: -0.80359364295127.\n",
      "[I 2020-04-28 13:40:52,134] Finished trial#57 with value: -0.8035743643787295 with parameters: {'C': 0.10718400506727534}. Best is trial#52 with value: -0.80359364295127.\n",
      "[I 2020-04-28 13:41:14,054] Finished trial#58 with value: -0.7980766773571385 with parameters: {'C': 0.7757059161974341}. Best is trial#52 with value: -0.80359364295127.\n",
      "[I 2020-04-28 13:41:14,672] Finished trial#59 with value: -0.6129166796984167 with parameters: {'C': 4.550715167296644e-09}. Best is trial#52 with value: -0.80359364295127.\n",
      "[I 2020-04-28 13:41:50,662] Finished trial#60 with value: -0.7893595667236367 with parameters: {'C': 5.54549634682517}. Best is trial#52 with value: -0.80359364295127.\n",
      "[I 2020-04-28 13:42:01,644] Finished trial#61 with value: -0.8035097352541282 with parameters: {'C': 0.14963920757062354}. Best is trial#52 with value: -0.80359364295127.\n",
      "[I 2020-04-28 13:42:09,743] Finished trial#62 with value: -0.80271469195834 with parameters: {'C': 0.060389171834784726}. Best is trial#52 with value: -0.80359364295127.\n",
      "[I 2020-04-28 13:42:25,314] Finished trial#63 with value: -0.8017276339295094 with parameters: {'C': 0.3330772398238515}. Best is trial#52 with value: -0.80359364295127.\n",
      "[I 2020-04-28 13:42:30,757] Finished trial#64 with value: -0.7965424709391348 with parameters: {'C': 0.017462904312284793}. Best is trial#52 with value: -0.80359364295127.\n",
      "[I 2020-04-28 13:42:40,664] Finished trial#65 with value: -0.8035645619579551 with parameters: {'C': 0.10512799654093416}. Best is trial#52 with value: -0.80359364295127.\n",
      "[I 2020-04-28 13:42:48,395] Finished trial#66 with value: -0.8021813550170526 with parameters: {'C': 0.05032910462405046}. Best is trial#52 with value: -0.80359364295127.\n",
      "[I 2020-04-28 13:42:51,980] Finished trial#67 with value: -0.7877177363302892 with parameters: {'C': 0.006756254675295833}. Best is trial#52 with value: -0.80359364295127.\n",
      "[I 2020-04-28 13:43:18,344] Finished trial#68 with value: -0.7955091713545885 with parameters: {'C': 1.3033192059951222}. Best is trial#52 with value: -0.80359364295127.\n",
      "[I 2020-04-28 13:43:36,624] Finished trial#69 with value: -0.8001128919547955 with parameters: {'C': 0.5010501955992446}. Best is trial#52 with value: -0.80359364295127.\n",
      "[I 2020-04-28 13:43:43,197] Finished trial#70 with value: -0.8003473549168179 with parameters: {'C': 0.03227765353980391}. Best is trial#52 with value: -0.80359364295127.\n",
      "[I 2020-04-28 13:43:53,950] Finished trial#71 with value: -0.8035842396759133 with parameters: {'C': 0.1311129969311097}. Best is trial#52 with value: -0.80359364295127.\n",
      "[I 2020-04-28 13:44:03,474] Finished trial#72 with value: -0.8033398068982487 with parameters: {'C': 0.08279160047660783}. Best is trial#52 with value: -0.80359364295127.\n",
      "[I 2020-04-28 13:44:15,727] Finished trial#73 with value: -0.8031954568236583 with parameters: {'C': 0.19122422365059336}. Best is trial#52 with value: -0.80359364295127.\n",
      "[I 2020-04-28 13:44:26,890] Finished trial#74 with value: -0.8035978228038969 with parameters: {'C': 0.12299878403389289}. Best is trial#74 with value: -0.8035978228038969.\n",
      "[I 2020-04-28 13:44:31,474] Finished trial#75 with value: -0.7924581558011816 with parameters: {'C': 0.010721107322314427}. Best is trial#74 with value: -0.8035978228038969.\n",
      "[I 2020-04-28 13:44:44,909] Finished trial#76 with value: -0.8028480602420313 with parameters: {'C': 0.2269771256708351}. Best is trial#74 with value: -0.8035978228038969.\n",
      "[I 2020-04-28 13:44:50,839] Finished trial#77 with value: -0.8007875108220084 with parameters: {'C': 0.035353505323106625}. Best is trial#74 with value: -0.8035978228038969.\n",
      "[I 2020-04-28 13:45:11,602] Finished trial#78 with value: -0.7978360898206104 with parameters: {'C': 0.8152187091790678}. Best is trial#74 with value: -0.8035978228038969.\n",
      "[I 2020-04-28 13:45:42,764] Finished trial#79 with value: -0.7925622909308918 with parameters: {'C': 2.444038611395864}. Best is trial#74 with value: -0.8035978228038969.\n",
      "[I 2020-04-28 13:45:59,342] Finished trial#80 with value: -0.8009578247233314 with parameters: {'C': 0.40987348575331983}. Best is trial#74 with value: -0.8035978228038969.\n",
      "[I 2020-04-28 13:46:09,928] Finished trial#81 with value: -0.8035943301460413 with parameters: {'C': 0.12620269500354236}. Best is trial#74 with value: -0.8035978228038969.\n",
      "[I 2020-04-28 13:46:19,121] Finished trial#82 with value: -0.8034903747542265 with parameters: {'C': 0.09449823888648055}. Best is trial#74 with value: -0.8035978228038969.\n",
      "[I 2020-04-28 13:46:31,385] Finished trial#83 with value: -0.8030752636526219 with parameters: {'C': 0.20421616522988545}. Best is trial#74 with value: -0.8035978228038969.\n",
      "[I 2020-04-28 13:46:39,011] Finished trial#84 with value: -0.8023046447404498 with parameters: {'C': 0.05231348748827009}. Best is trial#74 with value: -0.8035978228038969.\n",
      "[I 2020-04-28 13:46:49,704] Finished trial#85 with value: -0.8035977184055649 with parameters: {'C': 0.12335298781947711}. Best is trial#74 with value: -0.8035978228038969.\n",
      "[I 2020-04-28 13:46:55,533] Finished trial#86 with value: -0.7983048128199358 with parameters: {'C': 0.022537673834228413}. Best is trial#74 with value: -0.8035978228038969.\n",
      "[I 2020-04-28 13:47:37,280] Finished trial#87 with value: -0.7876636664836403 with parameters: {'C': 9.532849693211338}. Best is trial#74 with value: -0.8035978228038969.\n",
      "[I 2020-04-28 13:48:01,969] Finished trial#88 with value: -0.7959677017538453 with parameters: {'C': 1.189600539312487}. Best is trial#74 with value: -0.8035978228038969.\n",
      "[I 2020-04-28 13:48:16,338] Finished trial#89 with value: -0.8022556887717582 with parameters: {'C': 0.28372092951440797}. Best is trial#74 with value: -0.8035978228038969.\n",
      "[I 2020-04-28 13:48:35,001] Finished trial#90 with value: -0.7999502238626912 with parameters: {'C': 0.5202636056695379}. Best is trial#74 with value: -0.8035978228038969.\n",
      "[I 2020-04-28 13:48:45,536] Finished trial#91 with value: -0.8035702336930131 with parameters: {'C': 0.1358256945058598}. Best is trial#74 with value: -0.8035978228038969.\n",
      "[I 2020-04-28 13:48:53,799] Finished trial#92 with value: -0.8027094798973605 with parameters: {'C': 0.06026720962960101}. Best is trial#74 with value: -0.8035978228038969.\n",
      "[I 2020-04-28 13:48:58,482] Finished trial#93 with value: -0.7955729198812602 with parameters: {'C': 0.015382501639174909}. Best is trial#74 with value: -0.8035978228038969.\n"
     ]
    },
    {
     "name": "stderr",
     "output_type": "stream",
     "text": [
      "[I 2020-04-28 13:49:08,606] Finished trial#94 with value: -0.8035577840623638 with parameters: {'C': 0.13934225806899986}. Best is trial#74 with value: -0.8035978228038969.\n",
      "[I 2020-04-28 13:49:14,952] Finished trial#95 with value: -0.7996785976698713 with parameters: {'C': 0.028401127859094166}. Best is trial#74 with value: -0.8035978228038969.\n",
      "[I 2020-04-28 13:49:23,182] Finished trial#96 with value: -0.8030749465996264 with parameters: {'C': 0.07074229406086759}. Best is trial#74 with value: -0.8035978228038969.\n",
      "[I 2020-04-28 13:49:43,548] Finished trial#97 with value: -0.7986571296847575 with parameters: {'C': 0.6877750600740542}. Best is trial#74 with value: -0.8035978228038969.\n",
      "[I 2020-04-28 13:49:54,228] Finished trial#98 with value: -0.8035660614838805 with parameters: {'C': 0.1369223780375913}. Best is trial#74 with value: -0.8035978228038969.\n",
      "[I 2020-04-28 13:49:58,062] Finished trial#99 with value: -0.7907551087341652 with parameters: {'C': 0.008994186025698328}. Best is trial#74 with value: -0.8035978228038969.\n"
     ]
    }
   ],
   "source": [
    "def objective(trial):\n",
    "    C=trial.suggest_loguniform('C', 10e-10, 10)\n",
    "    model=LogisticRegression(C=C,max_iter=10000, solver='liblinear')\n",
    "    score=-cross_val_score(model, train_ohe, target, scoring='roc_auc', n_jobs=-1).mean()\n",
    "    return score\n",
    "\n",
    "study=optuna.create_study()\n",
    "study.optimize(objective, n_trials=100)\n",
    "tuned_C=study.best_params"
   ]
  },
  {
   "cell_type": "code",
   "execution_count": 15,
   "metadata": {},
   "outputs": [],
   "source": [
    "model=LogisticRegression(C=tuned_C['C'], solver=\"liblinear\", max_iter=10000)\n",
    "model.fit(train_ohe, target)\n",
    "pred=model.predict_proba(test_ohe)[:,1]"
   ]
  },
  {
   "cell_type": "code",
   "execution_count": 31,
   "metadata": {},
   "outputs": [
    {
     "name": "stdout",
     "output_type": "stream",
     "text": [
      "0.8035991313668722\n"
     ]
    }
   ],
   "source": [
    "from sklearn.model_selection import cross_validate\n",
    "score=cross_val_score(model, train_ohe, target, scoring=\"roc_auc\", n_jobs=-1).mean()\n",
    "print(score)"
   ]
  },
  {
   "cell_type": "code",
   "execution_count": 32,
   "metadata": {},
   "outputs": [],
   "source": [
    "submission = pd.DataFrame({'id': test_id, 'target': pred})\n",
    "submission.to_csv('submission.csv', index=False)"
   ]
  },
  {
   "cell_type": "code",
   "execution_count": 33,
   "metadata": {},
   "outputs": [
    {
     "data": {
      "text/plain": [
       "0.12299878403389289"
      ]
     },
     "execution_count": 33,
     "metadata": {},
     "output_type": "execute_result"
    }
   ],
   "source": [
    "tuned_C['C']"
   ]
  },
  {
   "cell_type": "code",
   "execution_count": null,
   "metadata": {},
   "outputs": [],
   "source": []
  }
 ],
 "metadata": {
  "kernelspec": {
   "display_name": "Python 3",
   "language": "python",
   "name": "python3"
  },
  "language_info": {
   "codemirror_mode": {
    "name": "ipython",
    "version": 3
   },
   "file_extension": ".py",
   "mimetype": "text/x-python",
   "name": "python",
   "nbconvert_exporter": "python",
   "pygments_lexer": "ipython3",
   "version": "3.7.6"
  }
 },
 "nbformat": 4,
 "nbformat_minor": 4
}
