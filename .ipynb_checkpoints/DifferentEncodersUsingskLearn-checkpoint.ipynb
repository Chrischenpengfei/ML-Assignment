{
 "cells": [
  {
   "cell_type": "code",
   "execution_count": 1,
   "metadata": {},
   "outputs": [],
   "source": [
    "import pandas as pd\n",
    "import numpy as np\n",
    "import matplotlib.pyplot as plt\n",
    "from sklearn.model_selection import train_test_split\n",
    "from sklearn.linear_model import LogisticRegression\n",
    "from sklearn.metrics import accuracy_score\n",
    "from sklearn.metrics import roc_auc_score as auc\n",
    "from sklearn.model_selection import KFold\n",
    "from sklearn import base"
   ]
  },
  {
   "cell_type": "code",
   "execution_count": 2,
   "metadata": {},
   "outputs": [],
   "source": [
    "df_train=pd.read_csv('train.csv')\n",
    "df_test=pd.read_csv('test.csv')"
   ]
  },
  {
   "cell_type": "code",
   "execution_count": 3,
   "metadata": {},
   "outputs": [],
   "source": [
    "X=df_train.drop(['target'],axis=1)\n",
    "y=df_train['target']"
   ]
  },
  {
   "cell_type": "code",
   "execution_count": 6,
   "metadata": {},
   "outputs": [],
   "source": [
    "# logistic regression \n",
    "def logistic(X,y):\n",
    "    X_train,X_test,y_train,y_test=train_test_split(X,y,random_state=42,test_size=0.2)\n",
    "    lr=LogisticRegression(max_iter=10000)\n",
    "    lr.fit(X_train,y_train)\n",
    "    y_pre=lr.predict(X_test)\n",
    "    print('Accuracy : ',accuracy_score(y_test,y_pre))\n",
    "    print('auc: ', auc(y_test,y_pre))"
   ]
  },
  {
   "cell_type": "markdown",
   "metadata": {},
   "source": [
    "## 1. Label Encoding ##"
   ]
  },
  {
   "cell_type": "code",
   "execution_count": 4,
   "metadata": {},
   "outputs": [],
   "source": [
    "from sklearn.preprocessing import LabelEncoder"
   ]
  },
  {
   "cell_type": "code",
   "execution_count": 5,
   "metadata": {},
   "outputs": [
    {
     "name": "stdout",
     "output_type": "stream",
     "text": [
      "Wall time: 926 ms\n"
     ]
    }
   ],
   "source": [
    "train=pd.DataFrame()\n",
    "label=LabelEncoder()\n",
    "for c in  X.columns:\n",
    "    if(X[c].dtype=='object'):\n",
    "        train[c]=label.fit_transform(X[c])\n",
    "    else:\n",
    "        train[c]=X[c]"
   ]
  },
  {
   "cell_type": "code",
   "execution_count": 7,
   "metadata": {},
   "outputs": [
    {
     "name": "stdout",
     "output_type": "stream",
     "text": [
      "Accuracy :  0.69065\n",
      "auc:  0.5072521140446195\n",
      "Wall time: 2.38 s\n"
     ]
    }
   ],
   "source": [
    "logistic(train,y)"
   ]
  },
  {
   "cell_type": "markdown",
   "metadata": {},
   "source": [
    "## 2. One hot encoding ##"
   ]
  },
  {
   "cell_type": "code",
   "execution_count": 8,
   "metadata": {},
   "outputs": [],
   "source": [
    "from sklearn.preprocessing import OneHotEncoder"
   ]
  },
  {
   "cell_type": "code",
   "execution_count": 9,
   "metadata": {},
   "outputs": [
    {
     "name": "stdout",
     "output_type": "stream",
     "text": [
      "Wall time: 1.52 s\n"
     ]
    }
   ],
   "source": [
    "one=OneHotEncoder()\n",
    "\n",
    "one.fit(X)\n",
    "train=one.transform(X)"
   ]
  },
  {
   "cell_type": "code",
   "execution_count": 10,
   "metadata": {},
   "outputs": [
    {
     "name": "stdout",
     "output_type": "stream",
     "text": [
      "Accuracy :  0.7594\n",
      "auc:  0.6810257645636164\n",
      "Wall time: 1min 20s\n"
     ]
    }
   ],
   "source": [
    "logistic(train,y)"
   ]
  },
  {
   "cell_type": "markdown",
   "metadata": {},
   "source": [
    "## 3.Feature hashing (a.k.a the hashing trick) ##"
   ]
  },
  {
   "cell_type": "code",
   "execution_count": 11,
   "metadata": {},
   "outputs": [],
   "source": [
    "from sklearn.feature_extraction import FeatureHasher"
   ]
  },
  {
   "cell_type": "code",
   "execution_count": 12,
   "metadata": {},
   "outputs": [
    {
     "name": "stdout",
     "output_type": "stream",
     "text": [
      "Wall time: 4.4 s\n"
     ]
    }
   ],
   "source": [
    "X_train_hash=X.copy()\n",
    "for c in X.columns:\n",
    "    X_train_hash[c]=X[c].astype('str')      \n",
    "hashing=FeatureHasher(input_type='string')\n",
    "train=hashing.transform(X_train_hash.values)"
   ]
  },
  {
   "cell_type": "code",
   "execution_count": 13,
   "metadata": {},
   "outputs": [
    {
     "name": "stdout",
     "output_type": "stream",
     "text": [
      "Accuracy :  0.7512666666666666\n",
      "auc:  0.6690547832496434\n",
      "Wall time: 3min 43s\n"
     ]
    }
   ],
   "source": [
    "logistic(train,y)"
   ]
  },
  {
   "cell_type": "markdown",
   "metadata": {},
   "source": [
    "## 4.Encoding categories with dataset statistics ##"
   ]
  },
  {
   "cell_type": "code",
   "execution_count": 14,
   "metadata": {},
   "outputs": [
    {
     "name": "stdout",
     "output_type": "stream",
     "text": [
      "Wall time: 696 ms\n"
     ]
    }
   ],
   "source": [
    "X_train_stat=X.copy()\n",
    "for c in X_train_stat.columns:\n",
    "    if(X_train_stat[c].dtype=='object'):\n",
    "        X_train_stat[c]=X_train_stat[c].astype('category')\n",
    "        counts=X_train_stat[c].value_counts()\n",
    "        counts=counts.sort_index()\n",
    "        counts=counts.fillna(0)\n",
    "        counts += np.random.rand(len(counts))/1000\n",
    "        X_train_stat[c].cat.categories=counts"
   ]
  },
  {
   "cell_type": "code",
   "execution_count": 15,
   "metadata": {},
   "outputs": [
    {
     "name": "stdout",
     "output_type": "stream",
     "text": [
      "Accuracy :  0.6946\n",
      "auc:  0.49998800297526214\n"
     ]
    }
   ],
   "source": [
    "logistic(X_train_stat,y)"
   ]
  },
  {
   "cell_type": "markdown",
   "metadata": {},
   "source": [
    "## 5.Encoding cyclic features + On hot encoding on other features ##"
   ]
  },
  {
   "cell_type": "code",
   "execution_count": 17,
   "metadata": {},
   "outputs": [
    {
     "name": "stdout",
     "output_type": "stream",
     "text": [
      "Wall time: 266 ms\n"
     ]
    }
   ],
   "source": [
    "# encode day and month feature with cyclic apporch\n",
    "X_train_cyclic=X.copy()\n",
    "columns=['day','month']\n",
    "for col in columns:\n",
    "    X_train_cyclic[col+'_sin']=np.sin((2*np.pi*X_train_cyclic[col])/max(X_train_cyclic[col]))\n",
    "    X_train_cyclic[col+'_cos']=np.cos((2*np.pi*X_train_cyclic[col])/max(X_train_cyclic[col]))\n",
    "X_train_cyclic=X_train_cyclic.drop(columns,axis=1)"
   ]
  },
  {
   "cell_type": "code",
   "execution_count": 18,
   "metadata": {},
   "outputs": [],
   "source": [
    "one=OneHotEncoder()\n",
    "\n",
    "one.fit(X_train_cyclic)\n",
    "train=one.transform(X_train_cyclic)"
   ]
  },
  {
   "cell_type": "code",
   "execution_count": 22,
   "metadata": {},
   "outputs": [
    {
     "name": "stdout",
     "output_type": "stream",
     "text": [
      "Accuracy :  0.7594\n",
      "auc:  0.6810257645636164\n"
     ]
    }
   ],
   "source": [
    "logistic(train,y)"
   ]
  },
  {
   "cell_type": "markdown",
   "metadata": {},
   "source": [
    "## 6. Target encoding ##"
   ]
  },
  {
   "cell_type": "code",
   "execution_count": 23,
   "metadata": {},
   "outputs": [
    {
     "name": "stdout",
     "output_type": "stream",
     "text": [
      "Wall time: 2min 38s\n"
     ]
    }
   ],
   "source": [
    "X_target=df_train.copy()\n",
    "X_target['day']=X_target['day'].astype('object')\n",
    "X_target['month']=X_target['month'].astype('object')\n",
    "for col in X_target.columns:\n",
    "    if (X_target[col].dtype=='object'):\n",
    "        target= dict ( X_target.groupby(col)['target'].agg('sum')/X_target.groupby(col)['target'].agg('count'))\n",
    "        X_target[col]=X_target[col].replace(target).values"
   ]
  },
  {
   "cell_type": "code",
   "execution_count": 24,
   "metadata": {},
   "outputs": [
    {
     "name": "stdout",
     "output_type": "stream",
     "text": [
      "Accuracy :  0.6946166666666667\n",
      "auc:  0.5\n"
     ]
    }
   ],
   "source": [
    "logistic(X_target.drop('target',axis=1),y)"
   ]
  }
 ],
 "metadata": {
  "kernelspec": {
   "display_name": "Python 3",
   "language": "python",
   "name": "python3"
  },
  "language_info": {
   "codemirror_mode": {
    "name": "ipython",
    "version": 3
   },
   "file_extension": ".py",
   "mimetype": "text/x-python",
   "name": "python",
   "nbconvert_exporter": "python",
   "pygments_lexer": "ipython3",
   "version": "3.7.6"
  }
 },
 "nbformat": 4,
 "nbformat_minor": 4
}
