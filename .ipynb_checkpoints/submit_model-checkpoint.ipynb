{
 "cells": [
  {
   "cell_type": "code",
   "execution_count": 1,
   "metadata": {},
   "outputs": [],
   "source": [
    "import numpy as np\n",
    "import pandas as pd\n",
    "from pandas.api.types import CategoricalDtype \n",
    "\n",
    "from sklearn.model_selection import cross_val_score\n",
    "from sklearn.linear_model import LogisticRegression\n",
    "\n",
    "import scipy\n",
    "import optuna"
   ]
  },
  {
   "cell_type": "code",
   "execution_count": 2,
   "metadata": {},
   "outputs": [],
   "source": [
    "# Load data\n",
    "train = pd.read_csv('train.csv')\n",
    "test = pd.read_csv('test.csv')\n",
    "\n",
    "# Subset\n",
    "test_id = test['id']\n",
    "target = train['target']\n",
    "train.drop(['target', 'id'], axis=1, inplace=True)\n",
    "test.drop(['id'], axis=1, inplace=True)"
   ]
  },
  {
   "cell_type": "code",
   "execution_count": 3,
   "metadata": {},
   "outputs": [],
   "source": [
    "# dictionary to map the feature\n",
    "bin_dict = {'T':1, 'F':0, 'Y':1, 'N':0}\n",
    "\n",
    "# Maping the category values in our dict\n",
    "train['bin_3'] = train['bin_3'].map(bin_dict)\n",
    "train['bin_4'] = train['bin_4'].map(bin_dict)\n",
    "test['bin_3'] = test['bin_3'].map(bin_dict)\n",
    "test['bin_4'] = test['bin_4'].map(bin_dict)"
   ]
  },
  {
   "cell_type": "code",
   "execution_count": 4,
   "metadata": {},
   "outputs": [],
   "source": [
    "# seting the orders of our ordinal features\n",
    "ord_1 = CategoricalDtype(categories=['Novice', 'Contributor','Expert', \n",
    "                                     'Master', 'Grandmaster'], ordered=True)\n",
    "ord_2 = CategoricalDtype(categories=['Freezing', 'Cold', 'Warm', 'Hot',\n",
    "                                     'Boiling Hot', 'Lava Hot'], ordered=True)\n",
    "ord_3 = CategoricalDtype(categories=['a', 'b', 'c', 'd', 'e', 'f', 'g',\n",
    "                                     'h', 'i', 'j', 'k', 'l', 'm', 'n', 'o'], ordered=True)\n",
    "ord_4 = CategoricalDtype(categories=['A', 'B', 'C', 'D', 'E', 'F', 'G', 'H', 'I',\n",
    "                                     'J', 'K', 'L', 'M', 'N', 'O', 'P', 'Q', 'R',\n",
    "                                     'S', 'T', 'U', 'V', 'W', 'X', 'Y', 'Z'], ordered=True)"
   ]
  },
  {
   "cell_type": "code",
   "execution_count": 5,
   "metadata": {},
   "outputs": [],
   "source": [
    "# Transforming ordinal Features\n",
    "train.ord_1 = train.ord_1.astype(ord_1)\n",
    "train.ord_2 = train.ord_2.astype(ord_2)\n",
    "train.ord_3 = train.ord_3.astype(ord_3)\n",
    "train.ord_4 = train.ord_4.astype(ord_4)\n",
    "\n",
    "# test dataset\n",
    "test.ord_1 = test.ord_1.astype(ord_1)\n",
    "test.ord_2 = test.ord_2.astype(ord_2)\n",
    "test.ord_3 = test.ord_3.astype(ord_3)\n",
    "test.ord_4 = test.ord_4.astype(ord_4)"
   ]
  },
  {
   "cell_type": "code",
   "execution_count": 6,
   "metadata": {},
   "outputs": [],
   "source": [
    "# Geting the codes of ordinal categoy's - train\n",
    "train.ord_1 = train.ord_1.cat.codes\n",
    "train.ord_2 = train.ord_2.cat.codes\n",
    "train.ord_3 = train.ord_3.cat.codes\n",
    "train.ord_4 = train.ord_4.cat.codes\n",
    "\n",
    "# Geting the codes of ordinal categoy's - test\n",
    "test.ord_1 = test.ord_1.cat.codes\n",
    "test.ord_2 = test.ord_2.cat.codes\n",
    "test.ord_3 = test.ord_3.cat.codes\n",
    "test.ord_4 = test.ord_4.cat.codes"
   ]
  },
  {
   "cell_type": "code",
   "execution_count": 7,
   "metadata": {},
   "outputs": [],
   "source": [
    "all_data = pd.concat((train,test))"
   ]
  },
  {
   "cell_type": "code",
   "execution_count": 8,
   "metadata": {},
   "outputs": [],
   "source": [
    "encoded=pd.get_dummies(all_data, columns=all_data.columns, sparse=True)\n",
    "encoded=encoded.sparse.to_coo().tocsr()"
   ]
  },
  {
   "cell_type": "code",
   "execution_count": 9,
   "metadata": {},
   "outputs": [],
   "source": [
    "train_ohe = encoded[:len(train)]\n",
    "test_ohe = encoded[len(train):]"
   ]
  },
  {
   "cell_type": "code",
   "execution_count": 10,
   "metadata": {},
   "outputs": [],
   "source": [
    "model=LogisticRegression(C=0.1, solver=\"liblinear\", max_iter=10000)\n",
    "model.fit(train_ohe, target)\n",
    "pred=model.predict_proba(test_ohe)[:,1]"
   ]
  },
  {
   "cell_type": "code",
   "execution_count": 11,
   "metadata": {},
   "outputs": [
    {
     "name": "stdout",
     "output_type": "stream",
     "text": [
      "0.8035368970938169\n"
     ]
    }
   ],
   "source": [
    "from sklearn.model_selection import cross_validate\n",
    "score=cross_val_score(model, train_ohe, target,scoring=\"roc_auc\", n_jobs=-1)[\"test_score\"].mean()\n",
    "print(score)"
   ]
  },
  {
   "cell_type": "code",
   "execution_count": 12,
   "metadata": {},
   "outputs": [
    {
     "name": "stderr",
     "output_type": "stream",
     "text": [
      "[I 2020-04-27 00:45:48,981] Finished trial#0 with value: -0.6209980775989218 with parameters: {'C': 1.607322614889113e-08}. Best is trial#0 with value: -0.6209980775989218.\n",
      "[I 2020-04-27 00:45:50,083] Finished trial#1 with value: -0.6230193522015571 with parameters: {'C': 1.200674810376953e-07}. Best is trial#1 with value: -0.6230193522015571.\n",
      "[I 2020-04-27 00:46:02,358] Finished trial#2 with value: -0.8028266975200701 with parameters: {'C': 0.2291437228447997}. Best is trial#2 with value: -0.8028266975200701.\n",
      "[I 2020-04-27 00:46:03,265] Finished trial#3 with value: -0.6217697557441343 with parameters: {'C': 5.547748576603366e-08}. Best is trial#2 with value: -0.8028266975200701.\n",
      "[I 2020-04-27 00:46:04,057] Finished trial#4 with value: -0.6715140596154301 with parameters: {'C': 4.1542162523346475e-06}. Best is trial#2 with value: -0.8028266975200701.\n",
      "[I 2020-04-27 00:46:07,196] Finished trial#5 with value: -0.7866609496453064 with parameters: {'C': 0.0061418381506284205}. Best is trial#2 with value: -0.8028266975200701.\n",
      "[I 2020-04-27 00:46:07,793] Finished trial#6 with value: -0.620754561723136 with parameters: {'C': 3.715391541763598e-09}. Best is trial#2 with value: -0.8028266975200701.\n",
      "[I 2020-04-27 00:46:08,469] Finished trial#7 with value: -0.6282337905490787 with parameters: {'C': 4.014339970173197e-07}. Best is trial#2 with value: -0.8028266975200701.\n",
      "[I 2020-04-27 00:46:14,147] Finished trial#8 with value: -0.799169130155572 with parameters: {'C': 0.025938959380637536}. Best is trial#2 with value: -0.8028266975200701.\n",
      "[I 2020-04-27 00:46:43,502] Finished trial#9 with value: -0.7907707476618853 with parameters: {'C': 3.7677212413143923}. Best is trial#2 with value: -0.8028266975200701.\n",
      "[I 2020-04-27 00:47:16,424] Finished trial#10 with value: -0.7880926671277925 with parameters: {'C': 8.252560919093044}. Best is trial#2 with value: -0.8028266975200701.\n",
      "[I 2020-04-27 00:47:21,133] Finished trial#11 with value: -0.7968581121954577 with parameters: {'C': 0.018209935504305254}. Best is trial#2 with value: -0.8028266975200701.\n",
      "[I 2020-04-27 00:47:26,855] Finished trial#12 with value: -0.7990264337181656 with parameters: {'C': 0.025319074569749273}. Best is trial#2 with value: -0.8028266975200701.\n",
      "[I 2020-04-27 00:47:40,590] Finished trial#13 with value: -0.8002165197429129 with parameters: {'C': 0.49028966161733445}. Best is trial#2 with value: -0.8028266975200701.\n",
      "[I 2020-04-27 00:48:03,273] Finished trial#14 with value: -0.7945532345487825 with parameters: {'C': 1.5868414836198816}. Best is trial#2 with value: -0.8028266975200701.\n",
      "[I 2020-04-27 00:48:04,691] Finished trial#15 with value: -0.7455071894968542 with parameters: {'C': 0.0003170180893649849}. Best is trial#2 with value: -0.8028266975200701.\n",
      "[I 2020-04-27 00:48:21,411] Finished trial#16 with value: -0.7987648556214133 with parameters: {'C': 0.6724702051181534}. Best is trial#2 with value: -0.8028266975200701.\n",
      "[I 2020-04-27 00:48:23,110] Finished trial#17 with value: -0.762909550575495 with parameters: {'C': 0.0010909386410458098}. Best is trial#2 with value: -0.8028266975200701.\n",
      "[I 2020-04-27 00:48:33,760] Finished trial#18 with value: -0.8028293049721752 with parameters: {'C': 0.22908790417640645}. Best is trial#18 with value: -0.8028293049721752.\n",
      "[I 2020-04-27 00:48:34,589] Finished trial#19 with value: -0.7121740238967413 with parameters: {'C': 2.419543694844429e-05}. Best is trial#18 with value: -0.8028293049721752.\n",
      "[I 2020-04-27 00:48:43,576] Finished trial#20 with value: -0.803588749290485 with parameters: {'C': 0.11164412904509141}. Best is trial#20 with value: -0.803588749290485.\n",
      "[I 2020-04-27 00:48:52,595] Finished trial#21 with value: -0.8035282012496252 with parameters: {'C': 0.0988282294424403}. Best is trial#20 with value: -0.803588749290485.\n",
      "[I 2020-04-27 00:49:01,073] Finished trial#22 with value: -0.8033954643801049 with parameters: {'C': 0.08625248754885378}. Best is trial#20 with value: -0.803588749290485.\n",
      "[I 2020-04-27 00:49:03,261] Finished trial#23 with value: -0.7732605978273874 with parameters: {'C': 0.002215980087116265}. Best is trial#20 with value: -0.803588749290485.\n",
      "[I 2020-04-27 00:49:10,699] Finished trial#24 with value: -0.8028745257223834 with parameters: {'C': 0.06441818525429897}. Best is trial#20 with value: -0.803588749290485.\n",
      "[I 2020-04-27 00:49:12,064] Finished trial#25 with value: -0.7382453928371412 with parameters: {'C': 0.00018467390711274348}. Best is trial#20 with value: -0.803588749290485.\n",
      "[I 2020-04-27 00:49:46,218] Finished trial#26 with value: -0.7885479910106508 with parameters: {'C': 7.105929838911876}. Best is trial#20 with value: -0.803588749290485.\n",
      "[I 2020-04-27 00:49:55,633] Finished trial#27 with value: -0.80360053149991 with parameters: {'C': 0.12074212593697108}. Best is trial#27 with value: -0.80360053149991.\n",
      "[I 2020-04-27 00:49:58,208] Finished trial#28 with value: -0.7806174477402392 with parameters: {'C': 0.0037692664528165905}. Best is trial#27 with value: -0.80360053149991.\n",
      "[I 2020-04-27 00:49:59,210] Finished trial#29 with value: -0.7221737071157239 with parameters: {'C': 5.222809619504531e-05}. Best is trial#27 with value: -0.80360053149991.\n",
      "[I 2020-04-27 00:50:24,335] Finished trial#30 with value: -0.7937380295099594 with parameters: {'C': 1.8850382305236315}. Best is trial#27 with value: -0.80360053149991.\n",
      "[I 2020-04-27 00:50:33,116] Finished trial#31 with value: -0.8035592792148172 with parameters: {'C': 0.10369647777016647}. Best is trial#27 with value: -0.80360053149991.\n",
      "[I 2020-04-27 00:50:36,444] Finished trial#32 with value: -0.7891247370646786 with parameters: {'C': 0.0076694014172079324}. Best is trial#27 with value: -0.80360053149991.\n",
      "[I 2020-04-27 00:50:45,932] Finished trial#33 with value: -0.803599362923564 with parameters: {'C': 0.12316739641149616}. Best is trial#27 with value: -0.80360053149991.\n",
      "[I 2020-04-27 00:50:47,523] Finished trial#34 with value: -0.7551745937333937 with parameters: {'C': 0.0006369164180788599}. Best is trial#27 with value: -0.80360053149991.\n",
      "[I 2020-04-27 00:51:00,720] Finished trial#35 with value: -0.801664221254296 with parameters: {'C': 0.33981851052994644}. Best is trial#27 with value: -0.80360053149991.\n",
      "[I 2020-04-27 00:51:21,872] Finished trial#36 with value: -0.7960315915498595 with parameters: {'C': 1.172028199505522}. Best is trial#27 with value: -0.80360053149991.\n",
      "[I 2020-04-27 00:51:30,394] Finished trial#37 with value: -0.8035884813368502 with parameters: {'C': 0.11155810885861538}. Best is trial#27 with value: -0.80360053149991.\n",
      "[I 2020-04-27 00:51:35,106] Finished trial#38 with value: -0.795315380900927 with parameters: {'C': 0.014876535845952159}. Best is trial#27 with value: -0.80360053149991.\n",
      "[I 2020-04-27 00:51:41,697] Finished trial#39 with value: -0.802139456238498 with parameters: {'C': 0.0496520197633735}. Best is trial#27 with value: -0.80360053149991.\n",
      "[I 2020-04-27 00:51:42,486] Finished trial#40 with value: -0.6560945821496433 with parameters: {'C': 2.390504345059144e-06}. Best is trial#27 with value: -0.80360053149991.\n",
      "[I 2020-04-27 00:51:53,365] Finished trial#41 with value: -0.803175225049505 with parameters: {'C': 0.19357652086578905}. Best is trial#27 with value: -0.80360053149991.\n",
      "[I 2020-04-27 00:52:03,623] Finished trial#42 with value: -0.8033807123256308 with parameters: {'C': 0.16915932881246754}. Best is trial#27 with value: -0.80360053149991.\n",
      "[I 2020-04-27 00:52:06,834] Finished trial#43 with value: -0.7872937971057624 with parameters: {'C': 0.006492431173849639}. Best is trial#27 with value: -0.80360053149991.\n",
      "[I 2020-04-27 00:52:33,036] Finished trial#44 with value: -0.7916628945901177 with parameters: {'C': 3.019707782001275}. Best is trial#27 with value: -0.80360053149991.\n",
      "[I 2020-04-27 00:52:39,784] Finished trial#45 with value: -0.8019405729660468 with parameters: {'C': 0.046862157523816006}. Best is trial#27 with value: -0.80360053149991.\n",
      "[I 2020-04-27 00:53:16,444] Finished trial#46 with value: -0.7879178196822185 with parameters: {'C': 8.730635292722905}. Best is trial#27 with value: -0.80360053149991.\n",
      "[I 2020-04-27 00:53:32,301] Finished trial#47 with value: -0.7997709943909855 with parameters: {'C': 0.5415157047476525}. Best is trial#27 with value: -0.80360053149991.\n",
      "[I 2020-04-27 00:53:36,986] Finished trial#48 with value: -0.7954068825133687 with parameters: {'C': 0.015047637499102472}. Best is trial#27 with value: -0.80360053149991.\n",
      "[I 2020-04-27 00:53:39,064] Finished trial#49 with value: -0.769586365729775 with parameters: {'C': 0.0017207086975246403}. Best is trial#27 with value: -0.80360053149991.\n"
     ]
    }
   ],
   "source": [
    "def objective(trial):\n",
    "    C=trial.suggest_loguniform('C', 10e-10, 10)\n",
    "    model=LogisticRegression(C=C,max_iter=10000, solver='liblinear')\n",
    "    score=-cross_val_score(model, train_ohe, target, scoring='roc_auc', n_jobs=-1).mean()\n",
    "    return score\n",
    "\n",
    "study=optuna.create_study()\n",
    "study.optimize(objective, n_trials=50)\n",
    "tuned_C=study.best_params"
   ]
  },
  {
   "cell_type": "code",
   "execution_count": 13,
   "metadata": {},
   "outputs": [],
   "source": [
    "model=LogisticRegression(C=tuned_C['C'], solver=\"liblinear\", max_iter=10000)\n",
    "model.fit(train_ohe, target)\n",
    "pred=model.predict_proba(test_ohe)[:,1]"
   ]
  },
  {
   "cell_type": "code",
   "execution_count": 14,
   "metadata": {},
   "outputs": [
    {
     "name": "stdout",
     "output_type": "stream",
     "text": [
      "0.8036004629447024\n"
     ]
    }
   ],
   "source": [
    "from sklearn.model_selection import cross_validate\n",
    "score=cross_val_score(model, train_ohe, target, scoring=\"roc_auc\", n_jobs=-1)[\"test_score\"].mean()\n",
    "print(score)"
   ]
  },
  {
   "cell_type": "code",
   "execution_count": 15,
   "metadata": {},
   "outputs": [],
   "source": [
    "submission = pd.DataFrame({'id': test_id, 'target': pred})\n",
    "submission.to_csv('submission.csv', index=False)"
   ]
  },
  {
   "cell_type": "code",
   "execution_count": null,
   "metadata": {},
   "outputs": [],
   "source": []
  }
 ],
 "metadata": {
  "kernelspec": {
   "display_name": "Python 3",
   "language": "python",
   "name": "python3"
  },
  "language_info": {
   "codemirror_mode": {
    "name": "ipython",
    "version": 3
   },
   "file_extension": ".py",
   "mimetype": "text/x-python",
   "name": "python",
   "nbconvert_exporter": "python",
   "pygments_lexer": "ipython3",
   "version": "3.7.6"
  }
 },
 "nbformat": 4,
 "nbformat_minor": 4
}
